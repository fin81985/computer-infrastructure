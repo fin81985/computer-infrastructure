{
 "cells": [
  {
   "cell_type": "markdown",
   "id": "9a37689d",
   "metadata": {},
   "source": [
    "# Assessment Problems"
   ]
  },
  {
   "cell_type": "markdown",
   "id": "3281a2aa",
   "metadata": {},
   "source": [
    "## Problem 1: Data from yfinance"
   ]
  },
  {
   "cell_type": "code",
   "execution_count": 2,
   "id": "809e34ce",
   "metadata": {},
   "outputs": [
    {
     "name": "stderr",
     "output_type": "stream",
     "text": [
      "C:\\Users\\finia\\AppData\\Local\\Temp\\ipykernel_15560\\2743952596.py:23: FutureWarning: YF.download() has changed argument auto_adjust default to True\n",
      "  yf.download(\"MSFT AAPL GOOG\", period=\"1mo\")\n",
      "[*********************100%***********************]  3 of 3 completed\n",
      "C:\\Users\\finia\\AppData\\Local\\Temp\\ipykernel_15560\\2743952596.py:25: FutureWarning: YF.download() has changed argument auto_adjust default to True\n",
      "  df = yf.download(\"MSFT AAPL GOOG\", period=\"1mo\")\n",
      "[*********************100%***********************]  3 of 3 completed\n"
     ]
    },
    {
     "data": {
      "text/plain": [
       "DatetimeIndex(['2025-09-11', '2025-09-12', '2025-09-15', '2025-09-16',\n",
       "               '2025-09-17', '2025-09-18', '2025-09-19', '2025-09-22',\n",
       "               '2025-09-23', '2025-09-24', '2025-09-25', '2025-09-26',\n",
       "               '2025-09-29', '2025-09-30', '2025-10-01', '2025-10-02',\n",
       "               '2025-10-03', '2025-10-06', '2025-10-07', '2025-10-08',\n",
       "               '2025-10-09', '2025-10-10'],\n",
       "              dtype='datetime64[ns]', name='Date', freq=None)"
      ]
     },
     "execution_count": 2,
     "metadata": {},
     "output_type": "execute_result"
    }
   ],
   "source": [
    "# Problem 1: Understanding Computer Architecture\n",
    "# Author: Finian Doonan\n",
    "\n",
    "import yfinance as yf\n",
    "\n",
    "dat =yf.Ticker(\"MSFT\")\n",
    "\n",
    "dat\n",
    "\n",
    "dat.info\n",
    "\n",
    "dat.calendar\n",
    "\n",
    "# dat.analyst_price_target  # This attribute does not exist\n",
    "dat.recommendations  # This provides analyst recommendations if available\n",
    "\n",
    "dat.history(period=\"1mo\")\n",
    "\n",
    "tickers = yf.Tickers(\"msft aapl goog\")\n",
    "\n",
    "tickers\n",
    "\n",
    "yf.download(\"MSFT AAPL GOOG\", period=\"1mo\")\n",
    "\n",
    "df = yf.download(\"MSFT AAPL GOOG\", period=\"1mo\")\n",
    "\n",
    "type\n",
    "\n",
    "df.columns\n",
    "\n",
    "df.index\n",
    "\n"
   ]
  },
  {
   "cell_type": "markdown",
   "id": "c412904c",
   "metadata": {},
   "source": [
    "## explanations and insights into your code"
   ]
  },
  {
   "cell_type": "markdown",
   "id": "8c201735",
   "metadata": {},
   "source": [
    "## Problem 2: Plotting Data"
   ]
  },
  {
   "cell_type": "code",
   "execution_count": null,
   "id": "e0db9e18",
   "metadata": {},
   "outputs": [],
   "source": [
    "# Problem 2: Plotting Data\n",
    "# Author: Finian Doonan"
   ]
  },
  {
   "cell_type": "markdown",
   "id": "806ccdad",
   "metadata": {},
   "source": [
    "## explanations and insights into your code"
   ]
  },
  {
   "cell_type": "markdown",
   "id": "9af063c1",
   "metadata": {},
   "source": [
    "## Problem 3: Script"
   ]
  },
  {
   "cell_type": "code",
   "execution_count": null,
   "id": "29eef8c7",
   "metadata": {},
   "outputs": [],
   "source": [
    "# Problem 3: Script\n",
    "# Author: Finian Doonan\n",
    "\n"
   ]
  },
  {
   "cell_type": "markdown",
   "id": "861d1556",
   "metadata": {},
   "source": [
    "## explanations and insights into your code"
   ]
  },
  {
   "cell_type": "markdown",
   "id": "6e0d8ed3",
   "metadata": {},
   "source": [
    "## Problem 4: Automation"
   ]
  },
  {
   "cell_type": "code",
   "execution_count": null,
   "id": "32b57090",
   "metadata": {},
   "outputs": [],
   "source": [
    "# Problem 4: Automation\n",
    "# Author: Finian Doonan"
   ]
  },
  {
   "cell_type": "markdown",
   "id": "e4d41eaf",
   "metadata": {},
   "source": [
    "## explanations and insights into your code"
   ]
  },
  {
   "cell_type": "markdown",
   "id": "8d647867",
   "metadata": {},
   "source": [
    "# End"
   ]
  }
 ],
 "metadata": {
  "kernelspec": {
   "display_name": "cuda_v1",
   "language": "python",
   "name": "python3"
  },
  "language_info": {
   "codemirror_mode": {
    "name": "ipython",
    "version": 3
   },
   "file_extension": ".py",
   "mimetype": "text/x-python",
   "name": "python",
   "nbconvert_exporter": "python",
   "pygments_lexer": "ipython3",
   "version": "3.12.7"
  }
 },
 "nbformat": 4,
 "nbformat_minor": 5
}
