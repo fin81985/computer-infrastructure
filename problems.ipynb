{
 "cells": [
  {
   "cell_type": "markdown",
   "id": "9a37689d",
   "metadata": {},
   "source": [
    "# Assessment Problems"
   ]
  },
  {
   "cell_type": "markdown",
   "id": "3281a2aa",
   "metadata": {},
   "source": [
    "## Problem 1: Data from yfinance"
   ]
  },
  {
   "cell_type": "code",
   "execution_count": null,
   "id": "809e34ce",
   "metadata": {},
   "outputs": [],
   "source": [
    "# Problem 1: Understanding Computer Architecture\n",
    "# Author: Finian Doonan"
   ]
  },
  {
   "cell_type": "markdown",
   "id": "c412904c",
   "metadata": {},
   "source": [
    "## explanations and insights into your code"
   ]
  },
  {
   "cell_type": "markdown",
   "id": "8c201735",
   "metadata": {},
   "source": [
    "## Problem 2: Plotting Data"
   ]
  },
  {
   "cell_type": "code",
   "execution_count": null,
   "id": "e0db9e18",
   "metadata": {},
   "outputs": [],
   "source": [
    "# Problem 2: Plotting Data\n",
    "# Author: Finian Doonan"
   ]
  },
  {
   "cell_type": "markdown",
   "id": "806ccdad",
   "metadata": {},
   "source": [
    "## explanations and insights into your code"
   ]
  },
  {
   "cell_type": "markdown",
   "id": "9af063c1",
   "metadata": {},
   "source": [
    "## Problem 3: Script"
   ]
  },
  {
   "cell_type": "code",
   "execution_count": null,
   "id": "29eef8c7",
   "metadata": {},
   "outputs": [],
   "source": [
    "# Problem 3: Script\n",
    "# Author: Finian Doonan"
   ]
  },
  {
   "cell_type": "markdown",
   "id": "861d1556",
   "metadata": {},
   "source": [
    "## explanations and insights into your code"
   ]
  },
  {
   "cell_type": "markdown",
   "id": "6e0d8ed3",
   "metadata": {},
   "source": [
    "## Problem 4: Automation"
   ]
  },
  {
   "cell_type": "code",
   "execution_count": null,
   "id": "32b57090",
   "metadata": {},
   "outputs": [],
   "source": [
    "# Problem 4: Automation\n",
    "# Author: Finian Doonan"
   ]
  },
  {
   "cell_type": "markdown",
   "id": "e4d41eaf",
   "metadata": {},
   "source": [
    "## explanations and insights into your code"
   ]
  },
  {
   "cell_type": "markdown",
   "id": "8d647867",
   "metadata": {},
   "source": [
    "# End"
   ]
  }
 ],
 "metadata": {
  "language_info": {
   "name": "python"
  }
 },
 "nbformat": 4,
 "nbformat_minor": 5
}
